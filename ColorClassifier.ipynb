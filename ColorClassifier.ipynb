{
 "cells": [
  {
   "cell_type": "code",
   "execution_count": 22,
   "id": "1b61f39a-c754-46a9-850a-68dda3d5bf2a",
   "metadata": {},
   "outputs": [],
   "source": [
    "import pandas as pd"
   ]
  },
  {
   "cell_type": "code",
   "execution_count": 27,
   "id": "9fbd2c04-a701-4f78-897f-9b0e9406d6a0",
   "metadata": {},
   "outputs": [],
   "source": [
    "dataset = pd.read_json('colorData.json')"
   ]
  },
  {
   "cell_type": "code",
   "execution_count": 32,
   "id": "0ac74a21-45ca-4a27-b6ed-c1b40330afb5",
   "metadata": {},
   "outputs": [],
   "source": [
    "df = pd.DataFrame.from_dict(data, orient='columns')"
   ]
  },
  {
   "cell_type": "code",
   "execution_count": 28,
   "id": "4b58784c-7aee-41e5-9dd1-96439d79bf67",
   "metadata": {},
   "outputs": [
    {
     "data": {
      "text/html": [
       "<div>\n",
       "<style scoped>\n",
       "    .dataframe tbody tr th:only-of-type {\n",
       "        vertical-align: middle;\n",
       "    }\n",
       "\n",
       "    .dataframe tbody tr th {\n",
       "        vertical-align: top;\n",
       "    }\n",
       "\n",
       "    .dataframe thead th {\n",
       "        text-align: right;\n",
       "    }\n",
       "</style>\n",
       "<table border=\"1\" class=\"dataframe\">\n",
       "  <thead>\n",
       "    <tr style=\"text-align: right;\">\n",
       "      <th></th>\n",
       "      <th>entries</th>\n",
       "    </tr>\n",
       "  </thead>\n",
       "  <tbody>\n",
       "    <tr>\n",
       "      <th>0</th>\n",
       "      <td>{'b': 155, 'g': 183, 'label': 'green-ish', 'r'...</td>\n",
       "    </tr>\n",
       "    <tr>\n",
       "      <th>1</th>\n",
       "      <td>{'b': 71, 'g': 22, 'label': 'pink-ish', 'r': 2...</td>\n",
       "    </tr>\n",
       "    <tr>\n",
       "      <th>2</th>\n",
       "      <td>{'b': 33, 'g': 196, 'label': 'orange-ish', 'r'...</td>\n",
       "    </tr>\n",
       "    <tr>\n",
       "      <th>3</th>\n",
       "      <td>{'b': 237, 'g': 147, 'label': 'blue-ish', 'r':...</td>\n",
       "    </tr>\n",
       "    <tr>\n",
       "      <th>4</th>\n",
       "      <td>{'b': 225, 'g': 159, 'label': 'blue-ish', 'r':...</td>\n",
       "    </tr>\n",
       "  </tbody>\n",
       "</table>\n",
       "</div>"
      ],
      "text/plain": [
       "                                             entries\n",
       "0  {'b': 155, 'g': 183, 'label': 'green-ish', 'r'...\n",
       "1  {'b': 71, 'g': 22, 'label': 'pink-ish', 'r': 2...\n",
       "2  {'b': 33, 'g': 196, 'label': 'orange-ish', 'r'...\n",
       "3  {'b': 237, 'g': 147, 'label': 'blue-ish', 'r':...\n",
       "4  {'b': 225, 'g': 159, 'label': 'blue-ish', 'r':..."
      ]
     },
     "execution_count": 28,
     "metadata": {},
     "output_type": "execute_result"
    }
   ],
   "source": [
    "df.head()"
   ]
  },
  {
   "cell_type": "code",
   "execution_count": null,
   "id": "90367430-cb08-421c-91ce-757d17aacbc3",
   "metadata": {},
   "outputs": [],
   "source": []
  }
 ],
 "metadata": {
  "kernelspec": {
   "display_name": "ml_env",
   "language": "python",
   "name": "ml_env"
  },
  "language_info": {
   "codemirror_mode": {
    "name": "ipython",
    "version": 3
   },
   "file_extension": ".py",
   "mimetype": "text/x-python",
   "name": "python",
   "nbconvert_exporter": "python",
   "pygments_lexer": "ipython3",
   "version": "3.9.5"
  }
 },
 "nbformat": 4,
 "nbformat_minor": 5
}

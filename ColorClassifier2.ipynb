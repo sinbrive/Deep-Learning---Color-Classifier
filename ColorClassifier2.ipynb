{
 "cells": [
  {
   "cell_type": "markdown",
   "id": "38ca0e22-39f3-4901-8aef-b711e0cc69fa",
   "metadata": {},
   "source": [
    "# Clone of \"TensorFlow.js Color Classifier - Intelligence and Learning\" \n",
    "- https://github.com/CodingTrain/ColorClassifer-TensorFlow.js/tree/main"
   ]
  },
  {
   "cell_type": "code",
   "execution_count": 69,
   "id": "1b61f39a-c754-46a9-850a-68dda3d5bf2a",
   "metadata": {},
   "outputs": [],
   "source": [
    "import pandas as pd"
   ]
  },
  {
   "cell_type": "code",
   "execution_count": 70,
   "id": "9fbd2c04-a701-4f78-897f-9b0e9406d6a0",
   "metadata": {},
   "outputs": [],
   "source": [
    "df = pd.read_json('colorData.json')  # ariginal file modified : \"entries\" removed"
   ]
  },
  {
   "cell_type": "code",
   "execution_count": 71,
   "id": "4b58784c-7aee-41e5-9dd1-96439d79bf67",
   "metadata": {},
   "outputs": [
    {
     "data": {
      "text/plain": [
       "Index(['b', 'g', 'label', 'r', 'uid'], dtype='object')"
      ]
     },
     "execution_count": 71,
     "metadata": {},
     "output_type": "execute_result"
    }
   ],
   "source": [
    "df.columns"
   ]
  },
  {
   "cell_type": "code",
   "execution_count": 72,
   "id": "793da671-369a-41cf-a491-1cb0aa0ffa25",
   "metadata": {},
   "outputs": [],
   "source": [
    "df=df.drop(columns=['uid'])"
   ]
  },
  {
   "cell_type": "code",
   "execution_count": 73,
   "id": "f615d0b6-8bc7-4126-8947-c13b6b29b90f",
   "metadata": {},
   "outputs": [],
   "source": [
    "from sklearn.preprocessing import OneHotEncoder\n",
    "ohe = OneHotEncoder()\n",
    "encoded = ohe.fit_transform(df[['label']]).toarray()"
   ]
  },
  {
   "cell_type": "code",
   "execution_count": 74,
   "id": "5b731644-0a5c-4e51-a70a-f72865c254fb",
   "metadata": {},
   "outputs": [],
   "source": [
    "ohe_df = pd.DataFrame(encoded, columns=ohe.get_feature_names_out())\n",
    "df = pd.concat([df, ohe_df], axis=1)"
   ]
  },
  {
   "cell_type": "code",
   "execution_count": 75,
   "id": "ef4e908d-23f1-4eee-94cd-805d50071734",
   "metadata": {},
   "outputs": [],
   "source": [
    "df=df.drop(columns=['label'])"
   ]
  },
  {
   "cell_type": "code",
   "execution_count": 76,
   "id": "57745b9e-31fb-4de2-917b-60f1ddb7dfba",
   "metadata": {},
   "outputs": [],
   "source": [
    "y=df.drop(columns=['b', 'g', 'r'])"
   ]
  },
  {
   "cell_type": "code",
   "execution_count": 77,
   "id": "617dc629-42e9-45e9-8583-158deffaa748",
   "metadata": {},
   "outputs": [],
   "source": [
    "X=df[['b', 'g', 'r']]\n",
    "X = X/255  # normalizing "
   ]
  },
  {
   "cell_type": "code",
   "execution_count": 78,
   "id": "5f3bef82-52cf-4446-b25a-1b0974540082",
   "metadata": {},
   "outputs": [],
   "source": [
    "from sklearn.model_selection import train_test_split\n",
    "\n",
    "X_train, X_test, y_train, y_test = train_test_split(X, y, test_size=0.2)"
   ]
  },
  {
   "cell_type": "code",
   "execution_count": 79,
   "id": "7896c5f5-5d92-46c9-8926-703b2947af23",
   "metadata": {},
   "outputs": [],
   "source": [
    "from  tensorflow import keras\n",
    "\n",
    "model = keras.models.Sequential()"
   ]
  },
  {
   "cell_type": "code",
   "execution_count": 80,
   "id": "27310ed6-e26e-4e49-8b2c-02fb5e607c28",
   "metadata": {},
   "outputs": [],
   "source": [
    "model.add(keras.layers.Dense(15, input_shape=[3], activation='sigmoid'))\n",
    "model.add(keras.layers.Dense(9, activation='softmax'))"
   ]
  },
  {
   "cell_type": "code",
   "execution_count": 81,
   "id": "90919ce1-e0d2-470d-b1f8-0b1b7e2a3c99",
   "metadata": {},
   "outputs": [],
   "source": [
    "model.compile(optimizer='adam', loss='categorical_crossentropy', metrics=['accuracy'])"
   ]
  },
  {
   "cell_type": "code",
   "execution_count": 86,
   "id": "650ce17f-124f-49d9-982f-ddab08125967",
   "metadata": {},
   "outputs": [
    {
     "name": "stdout",
     "output_type": "stream",
     "text": [
      "Epoch 1/10\n",
      "142/142 [==============================] - 1s 5ms/step - loss: 1.5969 - accuracy: 0.4821\n",
      "Epoch 2/10\n",
      "142/142 [==============================] - 1s 5ms/step - loss: 1.5435 - accuracy: 0.4984\n",
      "Epoch 3/10\n",
      "142/142 [==============================] - 1s 4ms/step - loss: 1.4919 - accuracy: 0.5166\n",
      "Epoch 4/10\n",
      "142/142 [==============================] - 1s 5ms/step - loss: 1.4429 - accuracy: 0.5392\n",
      "Epoch 5/10\n",
      "142/142 [==============================] - 1s 4ms/step - loss: 1.3968 - accuracy: 0.5490\n",
      "Epoch 6/10\n",
      "142/142 [==============================] - 1s 5ms/step - loss: 1.3545 - accuracy: 0.5591\n",
      "Epoch 7/10\n",
      "142/142 [==============================] - 1s 5ms/step - loss: 1.3163 - accuracy: 0.5676\n",
      "Epoch 8/10\n",
      "142/142 [==============================] - 1s 4ms/step - loss: 1.2809 - accuracy: 0.5751\n",
      "Epoch 9/10\n",
      "142/142 [==============================] - 1s 4ms/step - loss: 1.2485 - accuracy: 0.5826\n",
      "Epoch 10/10\n",
      "142/142 [==============================] - 1s 4ms/step - loss: 1.2193 - accuracy: 0.5913\n"
     ]
    },
    {
     "data": {
      "text/plain": [
       "<keras.src.callbacks.History at 0x2c39d26e520>"
      ]
     },
     "execution_count": 86,
     "metadata": {},
     "output_type": "execute_result"
    }
   ],
   "source": [
    "model.fit(X_train, y_train, epochs=10)"
   ]
  },
  {
   "cell_type": "code",
   "execution_count": 87,
   "id": "e1c37a1a-43c6-4da6-ad84-f389f143e42d",
   "metadata": {},
   "outputs": [],
   "source": [
    "import numpy as np\n",
    "\n",
    "def getColor(res):\n",
    "    colors = ['blue-ish', 'brown-ish', 'green-ish',\n",
    "       'grey-ish', 'orange-ish', 'pink-ish',\n",
    "       'purple-ish', 'red-ish', 'yellow-ish']\n",
    "    return colors[np.array(res).argmax()]\n",
    "    "
   ]
  },
  {
   "cell_type": "code",
   "execution_count": 88,
   "id": "5786a02a-e1ea-4a2a-b28a-3750b7ec8b2b",
   "metadata": {},
   "outputs": [
    {
     "name": "stdout",
     "output_type": "stream",
     "text": [
      "1/1 [==============================] - 0s 141ms/step\n",
      "The color is blue-ish\n"
     ]
    }
   ],
   "source": [
    "result = model.predict([[195/255, 205/255, 111/255]])\n",
    "print('The color is {}'.format(getColor(result)))"
   ]
  }
 ],
 "metadata": {
  "kernelspec": {
   "display_name": "ml_env",
   "language": "python",
   "name": "ml_env"
  },
  "language_info": {
   "codemirror_mode": {
    "name": "ipython",
    "version": 3
   },
   "file_extension": ".py",
   "mimetype": "text/x-python",
   "name": "python",
   "nbconvert_exporter": "python",
   "pygments_lexer": "ipython3",
   "version": "3.9.5"
  }
 },
 "nbformat": 4,
 "nbformat_minor": 5
}
